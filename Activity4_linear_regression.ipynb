{
 "cells": [
  {
   "cell_type": "markdown",
   "metadata": {},
   "source": [
    "# Linear Least Squares and the expansion of the universe!\n",
    "\n",
    "*************\n",
    "<img src=\"https://cdn.theatlantic.com/assets/media/img/2018/03/lead_large-1/lead_720_405.jpg?mod=1533692228\" width=\"100\" />\n",
    "Einstein's self-labelled \"biggest blunder\" came when he added a fudge factor that he called the *cosmological constant* to his calculations. He added it because based on his own theory of General Relativity, the universe was expanding... but that couldn't be! So he made it go away with this magical constant (OOPS!).\n",
    "\n",
    "Enter this suave man and astronomer, Edwin Hubble : <img src=\"https://upload.wikimedia.org/wikipedia/commons/thumb/1/15/Studio_portrait_photograph_of_Edwin_Powell_Hubble_%28cropped%29.JPG/220px-Studio_portrait_photograph_of_Edwin_Powell_Hubble_%28cropped%29.JPG\" width=\"70\" />. He observed that on average, everything was moving away from us! In fact, the farther away from us the object (such as a star or galaxy) was, the faster it was moving from us! Einstein realized his original work was right all along, and felt silly for faking math.\n",
    "\n",
    "Hubble saw a *linear* relationship, thus Hubble's law is written as: $$v = H_0 d$$\n",
    "In this activity we will measure Hubble's constant, $H_0$ using his **actual data** (cool, right?).\n",
    "************\n",
    "\n",
    "**tl;dr**\n",
    "We are doing a linear least squares regression. The first columm in the file `hubble.csv` contains our *inputs* and the second our *outputs* to the linear model.\n",
    "\n",
    "You will import your `AutoGrad` class and use it to find the line of best fit to this data using gradient descent.\n",
    "\n",
    "### Note: Your class only supports basic math operations, meaning you can't use slick `numpy` operations unless you also define them in `AutoGrad`. \n",
    "If you are a `numpy` lover like me, this means you will unfortunately need to loop where you wouldn't usually need to :( \n",
    "\n",
    "Don't worry. In our next activity, we will fix this issue"
   ]
  },
  {
   "cell_type": "code",
   "execution_count": 5,
   "metadata": {},
   "outputs": [],
   "source": [
    "# Package imports\n",
    "import pandas as pd\n",
    "import numpy as np\n",
    "import matplotlib.pyplot as plt\n"
   ]
  },
  {
   "cell_type": "code",
   "execution_count": 3,
   "metadata": {},
   "outputs": [],
   "source": [
    "# Read in the data from the file hubble.csv\n",
    "\n",
    "# Check out the documentation for the read_csv() function:\n",
    "# https://pandas.pydata.org/pandas-docs/stable/reference/api/pandas.read_csv.html\n",
    "\n",
    "# Don't get overwhelmed by the number of possible parameters; every parameter that has an \"=\"\n",
    "# sign next to it is optional. If you leave it unspecified, it will default to some sensible\n",
    "# value. At least for this activity, you can leave them all as is, and just specify your\n",
    "# file name (i.e., call read_csv with just one argument)\n",
    "\n",
    "# YOUR CODE HERE\n",
    "\n"
   ]
  },
  {
   "cell_type": "code",
   "execution_count": null,
   "metadata": {},
   "outputs": [],
   "source": [
    "# To verify that you successfully read in the data, let's print out a small\n",
    "# section of it: the pandas head() and tail() functions are handy for this\n",
    "\n",
    "# YOUR CODE HERE"
   ]
  },
  {
   "cell_type": "code",
   "execution_count": null,
   "metadata": {},
   "outputs": [],
   "source": [
    "# The column names are a little unwieldy: modify them to something that's a little\n",
    "# easier to work with (but still descriptive!). We'll let you Google this one\n",
    "\n",
    "# YOUR CODE HERE"
   ]
  },
  {
   "cell_type": "code",
   "execution_count": null,
   "metadata": {},
   "outputs": [],
   "source": [
    "# Let's plot the raw data -- d along the x-axis and v along the y-axis.\n",
    "# Here's a quick start guide: https://matplotlib.org/tutorials/introductory/pyplot.html\n",
    "# Don't forget to label your axes and title the plot!\n",
    "\n",
    "# YOUR CODE HERE"
   ]
  },
  {
   "cell_type": "code",
   "execution_count": null,
   "metadata": {},
   "outputs": [],
   "source": [
    "# Now for the main act: implement gradient descent to fit a line through the\n",
    "# data. This should be a 2-parameter fit, with a slope and intercept term.\n",
    "# We'll declare convergence when the change in our slope drops below a threshold (play with this value)\n",
    "\n",
    "\n",
    "# YOUR CODE HERE\n",
    "\n"
   ]
  },
  {
   "cell_type": "code",
   "execution_count": null,
   "metadata": {},
   "outputs": [],
   "source": [
    "# Plot your loss curve (loss as a function of iteration\n",
    "\n"
   ]
  },
  {
   "cell_type": "code",
   "execution_count": 2,
   "metadata": {},
   "outputs": [],
   "source": [
    "# Print out your final fitted parameters theta\n"
   ]
  },
  {
   "cell_type": "code",
   "execution_count": null,
   "metadata": {},
   "outputs": [],
   "source": [
    "# Plot your line of best fit and your data on one plot. \n",
    "\n"
   ]
  },
  {
   "cell_type": "markdown",
   "metadata": {},
   "source": [
    "### In the cell below, comment on your results. \n",
    "\n",
    "Does your line appear to fit the data well? Hubble calculated an expansion at a rate of $H_0 \\approx 500$ km/s/Mparsec. Do your results agree?"
   ]
  },
  {
   "cell_type": "markdown",
   "metadata": {},
   "source": [
    "\n",
    "<_Your response goes here._>"
   ]
  },
  {
   "cell_type": "markdown",
   "metadata": {},
   "source": [
    "### A note on interpreting regression results\n",
    "\n",
    "Consider the following regression problem: predicting the price of a house ($\\hat{y}$) based on the number of bedrooms ($x_1$, an integer) and the total area of a house ($x_2$, measured in square feet). In other words, we are interested in fitting the following function:\n",
    "$$ \\hat{y} = \\theta_0 + \\theta_1 \\cdot x_1 + \\theta_2 \\cdot x_2 $$\n",
    "\n",
    "Once gradient descent converges, we discover that $\\theta_1 = 780.0$ and $\\theta_2 =  2.5$. On this basis, can we conclude that the variable $x_1$ (number of bedrooms) has a _far_ greater impact on a house's price than $x_2$ (area), since it has a much larger coefficient in our model? Why or why not?"
   ]
  },
  {
   "cell_type": "markdown",
   "metadata": {},
   "source": [
    "<i><p style='text-align: right;'> <b>Authors:</b> Michelle Kuchera, Raghuram Ramanujan </p></i>"
   ]
  }
 ],
 "metadata": {
  "anaconda-cloud": {},
  "kernelspec": {
   "display_name": "Python 3.10",
   "language": "python",
   "name": "python-3.10"
  },
  "language_info": {
   "codemirror_mode": {
    "name": "ipython",
    "version": 3
   },
   "file_extension": ".py",
   "mimetype": "text/x-python",
   "name": "python",
   "nbconvert_exporter": "python",
   "pygments_lexer": "ipython3",
   "version": "3.10.4"
  }
 },
 "nbformat": 4,
 "nbformat_minor": 4
}
