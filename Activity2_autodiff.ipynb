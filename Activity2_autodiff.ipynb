{
 "cells": [
  {
   "cell_type": "markdown",
   "id": "351c3776-225f-437f-ab06-0be0c696ee06",
   "metadata": {},
   "source": [
    "# Automatic Differentiation\n",
    "\n",
    "In this activity we will implement an automatic differentiation class that will compute derivatives of polynomial functions (to start).\n",
    "\n",
    "In this `class`, we will override the following python algebraic operators to return both the *value* and the *derivative* at that value.\n",
    " - `+`\n",
    " - `-`\n",
    " -  `*`\n",
    " -  `/`\n",
    " - `**`\n",
    "\n",
    "Use the following documenation to find the names of the associatied **magic methods** in python: https://docs.python.org/3/library/operator.html\n",
    "\n",
    "   "
   ]
  },
  {
   "cell_type": "code",
   "execution_count": null,
   "id": "a232e19f-97d6-4eea-91a9-5385131fc4fc",
   "metadata": {},
   "outputs": [],
   "source": [
    "class AutoDiff:\n",
    "    def __init__(self, value, gradient=1.0):\n",
    "        \"\"\"\n",
    "        initialize an AutoDiff object.\n",
    "        \n",
    "        params:\n",
    "            value: The value of the variable.\n",
    "            gradient: The gradient of the operation (default is 1.0 for f(x) = x).\n",
    "        \"\"\"\n",
    "        # complete me \n",
    "        self.value = value\n",
    "\n",
    "    def __add__(self, b):\n",
    "        if not isinstance(b, AutoDiff):\n",
    "            b = AutoDiff(b, 0.0)\n",
    "        return AutoDiff(self.value + b.value, #complete me)\n",
    "\n",
    "    def __radd__(self, other):\n",
    "        return self.__add__(other)\n",
    "\n",
    "    # now, add support for other operators mentioned above\n"
   ]
  },
  {
   "cell_type": "markdown",
   "id": "f0030c29-d391-4818-9dd1-ae1e5b4de58e",
   "metadata": {},
   "source": [
    "We will build out this class further for more operations, but for now, let's test the AutoDiff class for various polynomial functions.\n",
    "\n",
    "1. $f(x) = x^2 + 3x +5$\n",
    "2. $f(x) = x^4 - 2x$\n",
    "3. $f(x) = 5x^2 - \\frac{1}{2}x -10/x$\n",
    "4. Function of your choosing\n",
    "\n",
    "Evaluate $f(x)$ and $f'(x)$ at $x=0,0.5,2$"
   ]
  },
  {
   "cell_type": "code",
   "execution_count": null,
   "id": "4ae7f04f-fafc-4d92-8541-4bc07fb6b742",
   "metadata": {},
   "outputs": [],
   "source": [
    "# An example on how to use the class\n",
    "\n",
    "# First, initialize your variable x:\n",
    "x = AutoDiff(2.0)  # Initialize variable x\n",
    "# Then, define your function:\n",
    "y = 3\n",
    "f = x + y  # Define function f(x) = x + 3\n",
    "print(\"value of f(x=\", x.value, \") =\",f.value)       # Output: Value of f\n",
    "print(\"Gradient f'(x=\", x.value, \") =\", f.gradient) # Output: Derivative of f with respect to x"
   ]
  },
  {
   "cell_type": "code",
   "execution_count": null,
   "id": "3b5f2651-3cfa-4761-b46c-9c3e88c7ac7e",
   "metadata": {},
   "outputs": [],
   "source": [
    "# Now complete the exercise \n",
    "\n",
    "\n",
    "\n"
   ]
  },
  {
   "cell_type": "code",
   "execution_count": null,
   "id": "3e822c84-7fda-45c0-a636-9c2722896807",
   "metadata": {},
   "outputs": [],
   "source": []
  }
 ],
 "metadata": {
  "kernelspec": {
   "display_name": "Python 3.10",
   "language": "python",
   "name": "python-3.10"
  },
  "language_info": {
   "codemirror_mode": {
    "name": "ipython",
    "version": 3
   },
   "file_extension": ".py",
   "mimetype": "text/x-python",
   "name": "python",
   "nbconvert_exporter": "python",
   "pygments_lexer": "ipython3",
   "version": "3.10.4"
  }
 },
 "nbformat": 4,
 "nbformat_minor": 5
}
