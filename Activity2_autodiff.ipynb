{
 "cells": [
  {
   "cell_type": "markdown",
   "id": "351c3776-225f-437f-ab06-0be0c696ee06",
   "metadata": {},
   "source": [
    "# Automatic Differentiation\n",
    "\n",
    "In this activity we will implement an automatic differentiation class that will compute derivatives of polynomial functions (to start).\n",
    "\n",
    "In this `class`, we will override the following python algebraic operators to return both the *value* and the *derivative* at that value.\n",
    " - `+`\n",
    " - `-`\n",
    " -  `*`\n",
    " -  `/`\n",
    " - `**`\n",
    "   "
   ]
  },
  {
   "cell_type": "code",
   "execution_count": 25,
   "id": "a232e19f-97d6-4eea-91a9-5385131fc4fc",
   "metadata": {},
   "outputs": [],
   "source": [
    "class AutoDiff:\n",
    "    def __init__(self, value, gradient=1.0):\n",
    "        \"\"\"\n",
    "        initialize an AutoDiff object.\n",
    "        \n",
    "        params:\n",
    "            value: The value of the variable.\n",
    "            gradient: The gradient of the variable (default is 1.0 for f(x) = x).\n",
    "        \"\"\"\n",
    "        self.value = value\n",
    "        self.gradient = gradient\n",
    "\n",
    "    def __add__(self, b):\n",
    "        if not isinstance(b, AutoDiff):\n",
    "            b = AutoDiff(b, 0.0)\n",
    "        return AutoDiff(self.value + b.value, self.gradient + b.gradient)\n",
    "\n",
    "    def __radd__(self, other):\n",
    "        return self.__add__(other)\n",
    "\n",
    "    def __mul__(self, other):\n",
    "        other = other if isinstance(other, AutoDiff) else AutoDiff(other, 0.0)\n",
    "        return AutoDiff(self.value * other.value, self.gradient * other.value + self.value * other.gradient)\n",
    "\n",
    "    def __rmul__(self, other):\n",
    "        return self.__mul__(other)\n",
    "\n",
    "    def __neg__(self):\n",
    "        return AutoDiff(-self.value, -self.gradient)\n",
    "\n",
    "    def __sub__(self, other):\n",
    "        return self.__add__(-other)\n",
    "\n",
    "    def __rsub__(self, other):\n",
    "        return (-self).__add__(other)\n",
    "\n",
    "    def __truediv__(self, other):\n",
    "        other = other if isinstance(other, AutoDiff) else AutoDiff(other, 0.0)\n",
    "        return AutoDiff(self.value / other.value, (self.gradient * other.value - self.value * other.gradient) / (other.value ** 2))\n",
    "\n",
    "    def __rtruediv__(self, other):\n",
    "        other = other if isinstance(other, AutoDiff) else AutoDiff(other, 0.0)\n",
    "        return other.__truediv__(self)\n",
    "\n",
    "    def __pow__(self, power):\n",
    "        return AutoDiff(self.value ** power, power * self.value ** (power - 1) * self.gradient)\n",
    "\n",
    "    @staticmethod\n",
    "    def sin(x):\n",
    "        return AutoDiff(math.sin(x.value), math.cos(x.value) * x.gradient)\n",
    "\n",
    "    @staticmethod\n",
    "    def cos(x):\n",
    "        return AutoDiff(math.cos(x.value), -math.sin(x.value) * x.gradient)\n",
    "\n",
    "    @staticmethod\n",
    "    def exp(x):\n",
    "        return AutoDiff(math.exp(x.value), math.exp(x.value) * x.gradient)\n",
    "\n",
    "    @staticmethod\n",
    "    def log(x):\n",
    "        return AutoDiff(math.log(x.value), 1 / x.value * x.gradient)\n"
   ]
  },
  {
   "cell_type": "markdown",
   "id": "f0030c29-d391-4818-9dd1-ae1e5b4de58e",
   "metadata": {},
   "source": [
    "We will build out this class further for more operations, but for now, let's test the AutoDiff class for various polynomial functions.\n",
    "\n",
    "1. $f(x) = x^2 + 3x +5$\n",
    "2. $f(x) = x^4 - 2x$\n",
    "3. $f(x) = 5x^2 - \\frac{1}{2}x -10$\n",
    "4. Function of your choosing\n",
    "\n",
    "Evaluate $f(x)$ and $f'(x)$ at $x=0,0.5,2$"
   ]
  },
  {
   "cell_type": "code",
   "execution_count": 26,
   "id": "4ae7f04f-fafc-4d92-8541-4bc07fb6b742",
   "metadata": {},
   "outputs": [
    {
     "name": "stdout",
     "output_type": "stream",
     "text": [
      "value of f(x= 2.0 ) = 5.0\n",
      "Gradient f'(x= 2.0 ) = 1.0\n"
     ]
    }
   ],
   "source": [
    "# An example on how to use the class\n",
    "\n",
    "# First, initialize your variable x:\n",
    "x = AutoDiff(2.0)  # Initialize variable x\n",
    "# Then, define your function:\n",
    "y = 3\n",
    "f = x + y  # Define function f(x) = x + 3\n",
    "print(\"value of f(x=\", x.value, \") =\",f.value)       # Output: Value of f\n",
    "print(\"Gradient f'(x=\", x.value, \") =\", f.gradient) # Output: Derivative of f with respect to x"
   ]
  },
  {
   "cell_type": "code",
   "execution_count": 18,
   "id": "3b5f2651-3cfa-4761-b46c-9c3e88c7ac7e",
   "metadata": {},
   "outputs": [],
   "source": [
    "# Now complete the exercise \n",
    "\n",
    "\n",
    "\n"
   ]
  },
  {
   "cell_type": "code",
   "execution_count": null,
   "id": "3e822c84-7fda-45c0-a636-9c2722896807",
   "metadata": {},
   "outputs": [],
   "source": []
  }
 ],
 "metadata": {
  "kernelspec": {
   "display_name": "Python 3.10",
   "language": "python",
   "name": "python-3.10"
  },
  "language_info": {
   "codemirror_mode": {
    "name": "ipython",
    "version": 3
   },
   "file_extension": ".py",
   "mimetype": "text/x-python",
   "name": "python",
   "nbconvert_exporter": "python",
   "pygments_lexer": "ipython3",
   "version": "3.10.4"
  }
 },
 "nbformat": 4,
 "nbformat_minor": 5
}
