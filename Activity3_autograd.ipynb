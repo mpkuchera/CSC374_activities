{
 "cells": [
  {
   "cell_type": "markdown",
   "id": "351c3776-225f-437f-ab06-0be0c696ee06",
   "metadata": {},
   "source": [
    "# Automatic Differentiation for vector gradients\n",
    "\n",
    "We will extend our autodiff class to work for vector gradients when we have more than one independent varaible.\n",
    "\n",
    "You will move your class to an external file `auto_grad.py` which you can then import into this notebook, but also use throughout the semester.\n",
    "\n",
    "Complete the `AutoGrad` class for the functions used in the last activity, adding functionality for the `exp` method.\n",
    "\n",
    "   "
   ]
  },
  {
   "cell_type": "code",
   "execution_count": null,
   "id": "a232e19f-97d6-4eea-91a9-5385131fc4fc",
   "metadata": {},
   "outputs": [],
   "source": [
    "from auto_grad import AutoGrad"
   ]
  },
  {
   "cell_type": "markdown",
   "id": "f0030c29-d391-4818-9dd1-ae1e5b4de58e",
   "metadata": {},
   "source": [
    "### Lets test the class"
   ]
  },
  {
   "cell_type": "code",
   "execution_count": null,
   "id": "4ae7f04f-fafc-4d92-8541-4bc07fb6b742",
   "metadata": {},
   "outputs": [],
   "source": [
    "# Example on how to use AutoGrad class\n",
    "x = AutoGrad(2.0, np.array([1.0, 0.0]))  # x = 2, partial derivative wrt x is 1\n",
    "y = AutoGrad(3.0, np.array([0.0, 1.0]))  # y = 3, partial derivative wrt y is 1\n",
    "f = x + y  # Define function f(x) = x+y\n",
    "print(\"value of f(x=\", x.value, \") =\",f.value)       # Output: Value of f\n",
    "print(\"Gradient f'(x=\", x.value, \") =\", f.gradient) # Output: Derivative of f with respect to x"
   ]
  },
  {
   "cell_type": "markdown",
   "id": "83ef2947-a8d0-4541-8921-d91f71c74ef5",
   "metadata": {},
   "source": [
    "\n",
    "### Test your class for more complicated functions:\n",
    "\n",
    " - f(x) = $x^2 + 3xy + 3$\n",
    " - f(x) = $4e^{x + 3y}$\n",
    " - $f(x) = $ a function of your choosing using the defined operators and methods\n",
    "\n",
    "\n"
   ]
  },
  {
   "cell_type": "code",
   "execution_count": null,
   "id": "3e822c84-7fda-45c0-a636-9c2722896807",
   "metadata": {},
   "outputs": [],
   "source": []
  }
 ],
 "metadata": {
  "kernelspec": {
   "display_name": "Python 3.10",
   "language": "python",
   "name": "python-3.10"
  },
  "language_info": {
   "codemirror_mode": {
    "name": "ipython",
    "version": 3
   },
   "file_extension": ".py",
   "mimetype": "text/x-python",
   "name": "python",
   "nbconvert_exporter": "python",
   "pygments_lexer": "ipython3",
   "version": "3.10.4"
  }
 },
 "nbformat": 4,
 "nbformat_minor": 5
}
