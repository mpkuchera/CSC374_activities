{
 "cells": [
  {
   "cell_type": "markdown",
   "id": "bd5986d9-3e22-4763-abc8-327b6f1035cb",
   "metadata": {},
   "source": [
    "# Convolutional Neural Networks in pyTorch\n",
    "\n",
    "In class, we discussed the mathematics of Convolutional Neural Networks (CNNs), which a neural network architectures with discrete convolution layers. In this activity, we will build and train a CNN for classification of the [Fashion MNIST](https://github.com/zalandoresearch/fashion-mnist) dataset. \n",
    "\n",
    "## To Do:\n",
    "### 1. Take a moment to read about the dataset linked above. Like the MNIST dataset of handwritten digits, this is a widely used benchmark dataset in machine learning.\n",
    "\n",
    "### 2. We first load and scale the data using `pyTorch` (I did this step for you this time)."
   ]
  },
  {
   "cell_type": "code",
   "execution_count": 32,
   "id": "c36823a9-051c-4829-8e55-159ac72fbee8",
   "metadata": {},
   "outputs": [],
   "source": [
    "import torch\n",
    "import torch.nn as nn\n",
    "import torch.optim as optim\n",
    "import torchvision\n",
    "import torchvision.transforms as transforms\n",
    "import matplotlib.pyplot as plt\n",
    "import numpy as np\n",
    "from sklearn.metrics import confusion_matrix\n",
    "\n"
   ]
  },
  {
   "cell_type": "code",
   "execution_count": 3,
   "id": "d37a31ef-1f27-4f54-b269-7976cd5583e6",
   "metadata": {},
   "outputs": [],
   "source": [
    "# Define transformations\n",
    "transform = transforms.ToTensor()\n",
    "\n",
    "\n",
    "# Load Fashion MNIST dataset\n",
    "trainset = torchvision.datasets.FashionMNIST(root='./data', train=True,\n",
    "                                        download=True, transform=transform)\n",
    "trainloader = torch.utils.data.DataLoader(trainset, batch_size=32,\n",
    "                                          shuffle=True)\n",
    "\n",
    "testset = torchvision.datasets.FashionMNIST(root='./data', train=False,\n",
    "                                       download=True, transform=transform)\n",
    "testloader = torch.utils.data.DataLoader(testset, batch_size=32,\n",
    "                                         shuffle=False)"
   ]
  },
  {
   "cell_type": "markdown",
   "id": "9fecddcf-a2b9-4b54-b202-1efd90835c30",
   "metadata": {},
   "source": [
    "\n",
    "### 3. Visualize the images to make sure you understand the data. (I looked at pictures, checked the numbers for scaling, and checked the shapes)"
   ]
  },
  {
   "cell_type": "code",
   "execution_count": 5,
   "id": "a401f767-0500-4a86-98c0-7d1445070e91",
   "metadata": {},
   "outputs": [
    {
     "data": {
      "image/png": "[encoded data removed]",
      "text/plain": [
       "<Figure size 640x480 with 1 Axes>"
      ]
     },
     "metadata": {},
     "output_type": "display_data"
    },
    {
     "name": "stdout",
     "output_type": "stream",
     "text": [
      "Dress\n"
     ]
    }
   ],
   "source": [
    "\n",
    "# Class labels that associate with numeric labels in dataset: 0,1,2,3,4,5,6,7,8,9\n",
    "classes = ('T-shirt/top', 'Trouser', 'Pullover', 'Dress', 'Coat',\n",
    "           'Sandal', 'Shirt', 'Sneaker', 'Bag', 'Ankle boot')\n",
    "\n",
    "# Visualize images\n",
    "def imshow(img):\n",
    "    npimg = img.numpy()\n",
    "    print(npimg.shape)\n",
    "    plt.imshow(npimg)\n",
    "    plt.show()\n",
    "\n",
    "# Get a random batch of data:\n",
    "dataiter = iter(trainloader)\n",
    "images, labels = next(dataiter) # get one batch\n",
    "\n",
    "#plot some images, their labels, shapes, etc. I converted to numpy for this\n",
    "#complete me\n",
    "\n"
   ]
  },
  {
   "cell_type": "markdown",
   "id": "5e62935d-549d-4f76-917b-4f92488780d2",
   "metadata": {},
   "source": [
    "### 4. Build the CNN architecture using `torch`\n",
    "\n",
    "We will build a CNN with the following architecture:\n",
    "\n",
    "    - Two convolutional layers:\n",
    "       - Layer 1: 32 3x3 filters, ReLU activation, and max pooling w/ 2x2 filter\n",
    "       - Layer 2: 64 3x3 filters, ReLU activation, and max pooling w/ 2x2 filter\n",
    "    - One fully connected hidden layer w/ 128 nodes\n",
    "    - Output layer\n",
    "\n",
    "Check out the [Conv2d](https://pytorch.org/docs/stable/generated/torch.nn.Conv2d.html) documentation to learn more about the `pyTorch` implementation."
   ]
  },
  {
   "cell_type": "code",
   "execution_count": 85,
   "id": "896a3489-dc78-4fa0-a41f-744f1907791b",
   "metadata": {},
   "outputs": [
    {
     "name": "stdout",
     "output_type": "stream",
     "text": [
      "CNN(\n",
      "  (conv1): Conv2d(1, 32, kernel_size=(3, 3), stride=(1, 1), padding=(1, 1))\n",
      "  (pool): MaxPool2d(kernel_size=2, stride=2, padding=0, dilation=1, ceil_mode=False)\n",
      "  (conv2): Conv2d(32, 64, kernel_size=(3, 3), stride=(1, 1), padding=(1, 1))\n",
      "  (fc1): Linear(in_features=3136, out_features=128, bias=True)\n",
      "  (fc2): Linear(in_features=128, out_features=10, bias=True)\n",
      "  (out): Softmax(dim=None)\n",
      ")\n"
     ]
    }
   ],
   "source": [
    "class CNN(nn.Module): # We inherit from torch's Module class\n",
    "    def __init__(self):\n",
    "        super(CNN, self).__init__() # call the constructor from Module\n",
    "        self.conv1 = nn.Conv2d(1, 32, 3, padding=1)  # I padded so I can more easily figure out next dimensions\n",
    "        self.pool = nn.MaxPool2d(2, 2) # can use this for any 2x2 convs in your architecture\n",
    "        self.conv2 = #complete me\n",
    "        self.hidden = nn.Linear(# complete me\n",
    "        self.out # complete me\n",
    "        \n",
    "    def forward(self, x):\n",
    "        x = self.pool(torch.relu(self.conv1(x)))# \n",
    "        # complete me\n",
    "        x = x.view(-1, #dim)  # Flatten the tensor\n",
    "        # complete me\n",
    "        return x\n",
    "\n",
    "cnet = CNN() # create instance of class\n",
    "print(cnet) # check that architecture is what you expected"
   ]
  },
  {
   "cell_type": "markdown",
   "id": "47a5d2ea-9186-4156-bfd3-9d649a81036c",
   "metadata": {},
   "source": [
    "## 5. Train our model"
   ]
  },
  {
   "cell_type": "code",
   "execution_count": 91,
   "id": "107de2b1-8a08-46da-8665-07bcaf042e44",
   "metadata": {},
   "outputs": [
    {
     "ename": "SyntaxError",
     "evalue": "invalid syntax (832237645.py, line 2)",
     "output_type": "error",
     "traceback": [
      "\u001b[0;36m  Cell \u001b[0;32mIn[91], line 2\u001b[0;36m\u001b[0m\n\u001b[0;31m    loss_f = nn.#Loss function\u001b[0m\n\u001b[0m                ^\u001b[0m\n\u001b[0;31mSyntaxError\u001b[0m\u001b[0;31m:\u001b[0m invalid syntax\n"
     ]
    }
   ],
   "source": [
    "# Define loss function and optimizer\n",
    "loss_f = nn.#Loss function\n",
    "optimizer = optim.Adam(net.parameters(), lr=0.001) # this is suitable for the problem (Adam is an SGD-based optimizer)\n",
    "\n",
    "# Training loop\n",
    "for epoch in range(5):  # This is computationaly intensive, lets just do a few epochs\n",
    "    running_loss = 0.0\n",
    "    for i, data in enumerate(trainloader, 0): # iterate through each batch\n",
    "        print(i)\n",
    "        inputs, labels = data\n",
    "        \n",
    "        # Zero the parameter gradients\n",
    "        optimizer.zero_grad()\n",
    "        \n",
    "        # Forward + backward + optimize\n",
    "        outputs = cnet(inputs)\n",
    "        loss = loss_f(outputs, labels)\n",
    "        loss.backward()\n",
    "        optimizer.step()\n",
    "        \n",
    "        # Print statistics\n",
    "        running_loss += loss.item()\n",
    "        if (i+1) % 500 == 0:  # print every 500 batches\n",
    "            print(f'[Epoch {epoch + 1}, Batch {i + 1}] loss: {running_loss / 500:.3f}')\n",
    "            running_loss = 0.0\n",
    "\n",
    "print('Finished Training')"
   ]
  },
  {
   "cell_type": "markdown",
   "id": "32ef2f2c-5326-4a87-8045-49f1fa10eea5",
   "metadata": {},
   "source": [
    "# Now evaluate the model on the test set\n",
    "\n",
    "I have provided the code to make your confusion matrix. \n",
    "\n",
    "### Compute accuracy, precision, recall, and F1 score yourself using the confusion matrix."
   ]
  },
  {
   "cell_type": "code",
   "execution_count": 88,
   "id": "901bf6c5-0855-4337-8d51-e060123d121c",
   "metadata": {},
   "outputs": [],
   "source": [
    "def get_predictions(model, loader): # make predictions on entire test set\n",
    "    all_preds = []\n",
    "    all_labels = []\n",
    "    with torch.no_grad():\n",
    "        for images, labels in loader:\n",
    "            outputs = model(images)\n",
    "            _, preds = torch.max(outputs, 1)\n",
    "            all_preds.extend(preds.numpy())\n",
    "            all_labels.extend(labels.numpy())\n",
    "    return all_preds, all_labels\n"
   ]
  },
  {
   "cell_type": "code",
   "execution_count": 89,
   "id": "42062970-4146-453e-951d-99063f9d5cd4",
   "metadata": {},
   "outputs": [
    {
     "name": "stderr",
     "output_type": "stream",
     "text": [
      "/tmp/ipykernel_1367116/836704043.py:17: UserWarning: Implicit dimension choice for softmax has been deprecated. Change the call to include dim=X as an argument.\n",
      "  x = self.out(x)\n"
     ]
    },
    {
     "name": "stdout",
     "output_type": "stream",
     "text": [
      "[[820   2  24  34   3   1 100   0  16   0]\n",
      " [  1 978   0  16   2   0   0   0   3   0]\n",
      " [ 13   1 905  12  38   0  30   0   1   0]\n",
      " [ 13   6  18 909  22   0  26   0   6   0]\n",
      " [  0   1 130  30 790   0  47   0   2   0]\n",
      " [  0   0   1   0   0 967   0  26   1   5]\n",
      " [110   4 108  32  68   0 657   0  21   0]\n",
      " [  0   0   0   0   0   3   0 984   1  12]\n",
      " [  2   2   1   4   1   3   4   3 980   0]\n",
      " [  0   0   0   0   0   3   0  46   1 950]]\n"
     ]
    }
   ],
   "source": [
    "y_pred, y_true = get_predictions(net, testloader)\n",
    "\n",
    "# Create confusion matrix\n",
    "cm = confusion_matrix(y_true, y_pred)\n",
    "print(cm)\n"
   ]
  },
  {
   "cell_type": "code",
   "execution_count": 90,
   "id": "7da0d02c-0a71-4dd5-91ba-e3da58d13fbc",
   "metadata": {},
   "outputs": [
    {
     "data": {
      "image/png": "[encoded data removed]",
      "text/plain": [
       "<Figure size 640x480 with 1 Axes>"
      ]
     },
     "metadata": {},
     "output_type": "display_data"
    }
   ],
   "source": [
    "plt.hist(y_true)\n",
    "plt.hist(y_pred)\n",
    "plt.show()"
   ]
  },
  {
   "cell_type": "code",
   "execution_count": null,
   "id": "e0f24f8f-4f1d-4b3e-9298-83f5644a70dd",
   "metadata": {},
   "outputs": [],
   "source": []
  }
 ],
 "metadata": {
  "kernelspec": {
   "display_name": "Python 3.10",
   "language": "python",
   "name": "python-3.10"
  },
  "language_info": {
   "codemirror_mode": {
    "name": "ipython",
    "version": 3
   },
   "file_extension": ".py",
   "mimetype": "text/x-python",
   "name": "python",
   "nbconvert_exporter": "python",
   "pygments_lexer": "ipython3",
   "version": "3.10.4"
  }
 },
 "nbformat": 4,
 "nbformat_minor": 5
}
